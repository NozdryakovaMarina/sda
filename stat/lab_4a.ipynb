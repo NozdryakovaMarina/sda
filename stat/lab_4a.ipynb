{
 "cells": [
  {
   "cell_type": "code",
   "execution_count": 25,
   "metadata": {},
   "outputs": [],
   "source": [
    "import os\n",
    "import numpy as np\n",
    "from sklearn.linear_model import LinearRegression # type: ignore\n",
    "from sklearn.metrics import r2_score, mean_squared_error\n",
    "import scipy as sp\n",
    "import matplotlib.pyplot as plt\n",
    "from scipy.stats import f\n",
    "from scipy.stats import t\n",
    "from scipy.optimize import fsolve\n",
    "import pandas as pd\n",
    "import math\n",
    "import operator\n",
    "import seaborn as sns\n",
    "import matplotlib.pyplot as plt\n",
    "from scipy.optimize import fsolve\n",
    "import statsmodels.api as sm"
   ]
  },
  {
   "cell_type": "markdown",
   "metadata": {},
   "source": [
    "Лабораторная работа - 4. Вариант 10"
   ]
  },
  {
   "attachments": {
    "image.png": {
     "image/png": "[encoded data removed]"
    }
   },
   "cell_type": "markdown",
   "metadata": {},
   "source": [
    "![image.png](attachment:image.png)"
   ]
  },
  {
   "cell_type": "code",
   "execution_count": 26,
   "metadata": {},
   "outputs": [],
   "source": [
    "n = 510\n",
    "gamma = 0.93\n",
    "alpha = 0.07\n",
    "sex = 1\n",
    "a = 11\n",
    "b = 12\n",
    "Z = \"ОБРАЗОВАНИЕ\""
   ]
  },
  {
   "cell_type": "markdown",
   "metadata": {},
   "source": [
    "Оценивание и верификация моделей линейной регрессии."
   ]
  },
  {
   "cell_type": "markdown",
   "metadata": {},
   "source": [
    "Часть 1"
   ]
  },
  {
   "cell_type": "code",
   "execution_count": 27,
   "metadata": {},
   "outputs": [
    {
     "name": "stdout",
     "output_type": "stream",
     "text": [
      "(510, 7)\n"
     ]
    },
    {
     "data": {
      "text/html": [
       "<div>\n",
       "<style scoped>\n",
       "    .dataframe tbody tr th:only-of-type {\n",
       "        vertical-align: middle;\n",
       "    }\n",
       "\n",
       "    .dataframe tbody tr th {\n",
       "        vertical-align: top;\n",
       "    }\n",
       "\n",
       "    .dataframe thead th {\n",
       "        text-align: right;\n",
       "    }\n",
       "</style>\n",
       "<table border=\"1\" class=\"dataframe\">\n",
       "  <thead>\n",
       "    <tr style=\"text-align: right;\">\n",
       "      <th></th>\n",
       "      <th>СТАЖ</th>\n",
       "      <th>ОБРАЗОВАНИЕ</th>\n",
       "      <th>ПОЛ</th>\n",
       "      <th>ЗП</th>\n",
       "      <th>Unnamed: 4</th>\n",
       "      <th>Unnamed: 5</th>\n",
       "      <th>Unnamed: 6</th>\n",
       "    </tr>\n",
       "  </thead>\n",
       "  <tbody>\n",
       "    <tr>\n",
       "      <th>0</th>\n",
       "      <td>22.384615</td>\n",
       "      <td>12</td>\n",
       "      <td>0</td>\n",
       "      <td>53.410000</td>\n",
       "      <td>NaN</td>\n",
       "      <td>NaN</td>\n",
       "      <td>NaN</td>\n",
       "    </tr>\n",
       "    <tr>\n",
       "      <th>1</th>\n",
       "      <td>8.903846</td>\n",
       "      <td>12</td>\n",
       "      <td>0</td>\n",
       "      <td>8.000000</td>\n",
       "      <td>NaN</td>\n",
       "      <td>NaN</td>\n",
       "      <td>NaN</td>\n",
       "    </tr>\n",
       "    <tr>\n",
       "      <th>2</th>\n",
       "      <td>13.250000</td>\n",
       "      <td>15</td>\n",
       "      <td>0</td>\n",
       "      <td>24.000000</td>\n",
       "      <td>NaN</td>\n",
       "      <td>NaN</td>\n",
       "      <td>NaN</td>\n",
       "    </tr>\n",
       "    <tr>\n",
       "      <th>3</th>\n",
       "      <td>18.250000</td>\n",
       "      <td>13</td>\n",
       "      <td>0</td>\n",
       "      <td>29.500000</td>\n",
       "      <td>NaN</td>\n",
       "      <td>NaN</td>\n",
       "      <td>16.928884</td>\n",
       "    </tr>\n",
       "    <tr>\n",
       "      <th>4</th>\n",
       "      <td>13.769231</td>\n",
       "      <td>18</td>\n",
       "      <td>0</td>\n",
       "      <td>32.049999</td>\n",
       "      <td>NaN</td>\n",
       "      <td>NaN</td>\n",
       "      <td>NaN</td>\n",
       "    </tr>\n",
       "    <tr>\n",
       "      <th>...</th>\n",
       "      <td>...</td>\n",
       "      <td>...</td>\n",
       "      <td>...</td>\n",
       "      <td>...</td>\n",
       "      <td>...</td>\n",
       "      <td>...</td>\n",
       "      <td>...</td>\n",
       "    </tr>\n",
       "    <tr>\n",
       "      <th>505</th>\n",
       "      <td>17.557692</td>\n",
       "      <td>17</td>\n",
       "      <td>1</td>\n",
       "      <td>48.070000</td>\n",
       "      <td>NaN</td>\n",
       "      <td>NaN</td>\n",
       "      <td>NaN</td>\n",
       "    </tr>\n",
       "    <tr>\n",
       "      <th>506</th>\n",
       "      <td>18.942308</td>\n",
       "      <td>12</td>\n",
       "      <td>1</td>\n",
       "      <td>11.500000</td>\n",
       "      <td>NaN</td>\n",
       "      <td>NaN</td>\n",
       "      <td>NaN</td>\n",
       "    </tr>\n",
       "    <tr>\n",
       "      <th>507</th>\n",
       "      <td>17.442308</td>\n",
       "      <td>12</td>\n",
       "      <td>1</td>\n",
       "      <td>9.250000</td>\n",
       "      <td>NaN</td>\n",
       "      <td>NaN</td>\n",
       "      <td>NaN</td>\n",
       "    </tr>\n",
       "    <tr>\n",
       "      <th>508</th>\n",
       "      <td>22.134615</td>\n",
       "      <td>13</td>\n",
       "      <td>1</td>\n",
       "      <td>23.000000</td>\n",
       "      <td>NaN</td>\n",
       "      <td>NaN</td>\n",
       "      <td>NaN</td>\n",
       "    </tr>\n",
       "    <tr>\n",
       "      <th>509</th>\n",
       "      <td>10.230769</td>\n",
       "      <td>17</td>\n",
       "      <td>1</td>\n",
       "      <td>21.910000</td>\n",
       "      <td>NaN</td>\n",
       "      <td>NaN</td>\n",
       "      <td>NaN</td>\n",
       "    </tr>\n",
       "  </tbody>\n",
       "</table>\n",
       "<p>510 rows × 7 columns</p>\n",
       "</div>"
      ],
      "text/plain": [
       "          СТАЖ  ОБРАЗОВАНИЕ  ПОЛ         ЗП  Unnamed: 4  Unnamed: 5  \\\n",
       "0    22.384615           12    0  53.410000         NaN         NaN   \n",
       "1     8.903846           12    0   8.000000         NaN         NaN   \n",
       "2    13.250000           15    0  24.000000         NaN         NaN   \n",
       "3    18.250000           13    0  29.500000         NaN         NaN   \n",
       "4    13.769231           18    0  32.049999         NaN         NaN   \n",
       "..         ...          ...  ...        ...         ...         ...   \n",
       "505  17.557692           17    1  48.070000         NaN         NaN   \n",
       "506  18.942308           12    1  11.500000         NaN         NaN   \n",
       "507  17.442308           12    1   9.250000         NaN         NaN   \n",
       "508  22.134615           13    1  23.000000         NaN         NaN   \n",
       "509  10.230769           17    1  21.910000         NaN         NaN   \n",
       "\n",
       "     Unnamed: 6  \n",
       "0           NaN  \n",
       "1           NaN  \n",
       "2           NaN  \n",
       "3     16.928884  \n",
       "4           NaN  \n",
       "..          ...  \n",
       "505         NaN  \n",
       "506         NaN  \n",
       "507         NaN  \n",
       "508         NaN  \n",
       "509         NaN  \n",
       "\n",
       "[510 rows x 7 columns]"
      ]
     },
     "metadata": {},
     "output_type": "display_data"
    }
   ],
   "source": [
    "path = r\"C:\\Users\\Alex\\Desktop\\Моя папка\\Универ\\Стат.анализ, 5 семестр\\lab_4\\LAB_4_DATA_2024.xlsx\"\n",
    "doc=pd.read_excel(path, sheet_name='ДАННЫЕ')\n",
    "doc = doc.iloc[:n]\n",
    "print(doc.shape)\n",
    "display(doc)"
   ]
  },
  {
   "cell_type": "markdown",
   "metadata": {},
   "source": [
    "№1"
   ]
  },
  {
   "cell_type": "code",
   "execution_count": 28,
   "metadata": {},
   "outputs": [
    {
     "name": "stdout",
     "output_type": "stream",
     "text": [
      "Средняя зарплата:  19.873529417374705\n",
      "Среднее число лет обучения:  13.688235294117646\n"
     ]
    }
   ],
   "source": [
    "salary_mean = np.mean(doc[\"ЗП\"])\n",
    "print(\"Средняя зарплата: \", salary_mean)\n",
    "edu_mean = np.mean(doc[Z])\n",
    "print(\"Среднее число лет обучения: \", edu_mean)"
   ]
  },
  {
   "cell_type": "code",
   "execution_count": 29,
   "metadata": {},
   "outputs": [
    {
     "data": {
      "image/png": "[encoded data removed]",
      "text/plain": [
       "<Figure size 640x480 with 1 Axes>"
      ]
     },
     "metadata": {},
     "output_type": "display_data"
    }
   ],
   "source": [
    "axes = plt.axes()        \n",
    "plt.title('Линейная регрессия - Работники')\n",
    "edu_lable=Z\n",
    "x_lable='ЗП'\n",
    "axes.set_xlabel(x_lable)\n",
    "axes.set_ylabel(edu_lable)\n",
    "for c, rows in doc.groupby(Z):\n",
    "    plt.scatter(rows[x_lable], rows[edu_lable])\n",
    "plt.show()"
   ]
  },
  {
   "cell_type": "code",
   "execution_count": 30,
   "metadata": {},
   "outputs": [],
   "source": [
    "edu_values = doc[Z].values\n",
    "edu = edu_values.reshape((-1, 1))\n",
    "salary = doc[\"ЗП\"].values\n",
    "#print(f\"{Z}: \", edu)\n",
    "#print(\"ЗП: \", salary_values)"
   ]
  },
  {
   "cell_type": "code",
   "execution_count": 31,
   "metadata": {},
   "outputs": [
    {
     "data": {
      "text/html": [
       "<style>#sk-container-id-2 {color: black;}#sk-container-id-2 pre{padding: 0;}#sk-container-id-2 div.sk-toggleable {background-color: white;}#sk-container-id-2 label.sk-toggleable__label {cursor: pointer;display: block;width: 100%;margin-bottom: 0;padding: 0.3em;box-sizing: border-box;text-align: center;}#sk-container-id-2 label.sk-toggleable__label-arrow:before {content: \"▸\";float: left;margin-right: 0.25em;color: #696969;}#sk-container-id-2 label.sk-toggleable__label-arrow:hover:before {color: black;}#sk-container-id-2 div.sk-estimator:hover label.sk-toggleable__label-arrow:before {color: black;}#sk-container-id-2 div.sk-toggleable__content {max-height: 0;max-width: 0;overflow: hidden;text-align: left;background-color: #f0f8ff;}#sk-container-id-2 div.sk-toggleable__content pre {margin: 0.2em;color: black;border-radius: 0.25em;background-color: #f0f8ff;}#sk-container-id-2 input.sk-toggleable__control:checked~div.sk-toggleable__content {max-height: 200px;max-width: 100%;overflow: auto;}#sk-container-id-2 input.sk-toggleable__control:checked~label.sk-toggleable__label-arrow:before {content: \"▾\";}#sk-container-id-2 div.sk-estimator input.sk-toggleable__control:checked~label.sk-toggleable__label {background-color: #d4ebff;}#sk-container-id-2 div.sk-label input.sk-toggleable__control:checked~label.sk-toggleable__label {background-color: #d4ebff;}#sk-container-id-2 input.sk-hidden--visually {border: 0;clip: rect(1px 1px 1px 1px);clip: rect(1px, 1px, 1px, 1px);height: 1px;margin: -1px;overflow: hidden;padding: 0;position: absolute;width: 1px;}#sk-container-id-2 div.sk-estimator {font-family: monospace;background-color: #f0f8ff;border: 1px dotted black;border-radius: 0.25em;box-sizing: border-box;margin-bottom: 0.5em;}#sk-container-id-2 div.sk-estimator:hover {background-color: #d4ebff;}#sk-container-id-2 div.sk-parallel-item::after {content: \"\";width: 100%;border-bottom: 1px solid gray;flex-grow: 1;}#sk-container-id-2 div.sk-label:hover label.sk-toggleable__label {background-color: #d4ebff;}#sk-container-id-2 div.sk-serial::before {content: \"\";position: absolute;border-left: 1px solid gray;box-sizing: border-box;top: 0;bottom: 0;left: 50%;z-index: 0;}#sk-container-id-2 div.sk-serial {display: flex;flex-direction: column;align-items: center;background-color: white;padding-right: 0.2em;padding-left: 0.2em;position: relative;}#sk-container-id-2 div.sk-item {position: relative;z-index: 1;}#sk-container-id-2 div.sk-parallel {display: flex;align-items: stretch;justify-content: center;background-color: white;position: relative;}#sk-container-id-2 div.sk-item::before, #sk-container-id-2 div.sk-parallel-item::before {content: \"\";position: absolute;border-left: 1px solid gray;box-sizing: border-box;top: 0;bottom: 0;left: 50%;z-index: -1;}#sk-container-id-2 div.sk-parallel-item {display: flex;flex-direction: column;z-index: 1;position: relative;background-color: white;}#sk-container-id-2 div.sk-parallel-item:first-child::after {align-self: flex-end;width: 50%;}#sk-container-id-2 div.sk-parallel-item:last-child::after {align-self: flex-start;width: 50%;}#sk-container-id-2 div.sk-parallel-item:only-child::after {width: 0;}#sk-container-id-2 div.sk-dashed-wrapped {border: 1px dashed gray;margin: 0 0.4em 0.5em 0.4em;box-sizing: border-box;padding-bottom: 0.4em;background-color: white;}#sk-container-id-2 div.sk-label label {font-family: monospace;font-weight: bold;display: inline-block;line-height: 1.2em;}#sk-container-id-2 div.sk-label-container {text-align: center;}#sk-container-id-2 div.sk-container {/* jupyter's `normalize.less` sets `[hidden] { display: none; }` but bootstrap.min.css set `[hidden] { display: none !important; }` so we also need the `!important` here to be able to override the default hidden behavior on the sphinx rendered scikit-learn.org. See: https://github.com/scikit-learn/scikit-learn/issues/21755 */display: inline-block !important;position: relative;}#sk-container-id-2 div.sk-text-repr-fallback {display: none;}</style><div id=\"sk-container-id-2\" class=\"sk-top-container\"><div class=\"sk-text-repr-fallback\"><pre>LinearRegression()</pre><b>In a Jupyter environment, please rerun this cell to show the HTML representation or trust the notebook. <br />On GitHub, the HTML representation is unable to render, please try loading this page with nbviewer.org.</b></div><div class=\"sk-container\" hidden><div class=\"sk-item\"><div class=\"sk-estimator sk-toggleable\"><input class=\"sk-toggleable__control sk-hidden--visually\" id=\"sk-estimator-id-2\" type=\"checkbox\" checked><label for=\"sk-estimator-id-2\" class=\"sk-toggleable__label sk-toggleable__label-arrow\">LinearRegression</label><div class=\"sk-toggleable__content\"><pre>LinearRegression()</pre></div></div></div></div></div>"
      ],
      "text/plain": [
       "LinearRegression()"
      ]
     },
     "execution_count": 31,
     "metadata": {},
     "output_type": "execute_result"
    }
   ],
   "source": [
    "model = LinearRegression()\n",
    "model.fit(edu, salary)"
   ]
  },
  {
   "cell_type": "code",
   "execution_count": 32,
   "metadata": {},
   "outputs": [
    {
     "name": "stdout",
     "output_type": "stream",
     "text": [
      "Intercept:  -14.164607890437054\n",
      "Slope:  [2.48667097]\n"
     ]
    }
   ],
   "source": [
    "b_0_hat = model.intercept_\n",
    "print('Intercept: ', b_0_hat)\n",
    "b_1_hat = model.coef_\n",
    "print('Slope: ', b_1_hat)"
   ]
  },
  {
   "cell_type": "markdown",
   "metadata": {},
   "source": [
    "№2"
   ]
  },
  {
   "cell_type": "code",
   "execution_count": 33,
   "metadata": {},
   "outputs": [
    {
     "name": "stdout",
     "output_type": "stream",
     "text": [
      "Коэффициент детерминации модели (ОБРАЗОВАНИЕ, ЗП):  0.17492466929764428\n",
      "F-статистика: 107.7014\n",
      "Критическое значение F: 3.2969\n",
      "p-значение: 0.0000\n",
      "Отвергаем нулевую гипотезу: модель обладает высокой объясняющей способностью.\n"
     ]
    }
   ],
   "source": [
    "#Нулевая гипотеза \n",
    "#H0: модель не объясняет зависимость\n",
    "#Альтернативная гипотеза \n",
    "#H1: модель объясняет зависимость\n",
    "R2 = model.score(edu, salary)\n",
    "print(f'Коэффициент детерминации модели ({Z}, ЗП): ', R2)\n",
    "k = 1 #количество факторов\n",
    "F = (R2 / k) / ((1 - R2) / (n - k - 1))\n",
    "F_crit = f.ppf(1 - alpha, dfn=k, dfd=(n - k - 1))\n",
    "p_value = f.sf(F, dfn=k, dfd=n - k - 1)\n",
    "print(f\"F-статистика: {F:.4f}\")\n",
    "print(f\"Критическое значение F: {F_crit:.4f}\")\n",
    "print(f\"p-значение: {p_value:.4f}\")\n",
    "if F > F_crit:\n",
    "    print(\"Отвергаем нулевую гипотезу: модель обладает высокой объясняющей способностью.\")\n",
    "else:\n",
    "    print(\"Не отвергаем нулевую гипотезу: модель низкого качества.\")"
   ]
  },
  {
   "cell_type": "code",
   "execution_count": 34,
   "metadata": {},
   "outputs": [
    {
     "name": "stdout",
     "output_type": "stream",
     "text": [
      "[ True  True  True  True  True  True  True  True  True  True  True  True\n",
      "  True  True  True  True  True  True  True  True  True  True  True  True\n",
      "  True  True  True  True  True  True  True  True  True  True  True  True\n",
      "  True  True  True  True  True  True  True  True  True  True  True  True\n",
      "  True  True  True  True  True  True  True  True  True  True  True  True\n",
      "  True  True  True  True  True  True  True  True  True  True  True  True\n",
      "  True  True  True  True  True  True  True  True  True  True  True  True\n",
      "  True  True  True  True  True  True  True  True  True  True  True  True\n",
      "  True  True  True  True  True  True  True  True  True  True  True  True\n",
      "  True  True  True  True  True  True  True  True  True  True  True  True\n",
      "  True  True  True  True  True  True  True  True  True  True  True  True\n",
      "  True  True  True  True  True  True  True  True  True  True  True  True\n",
      "  True  True  True  True  True  True  True  True  True  True  True  True\n",
      "  True  True  True  True  True  True  True  True  True  True  True  True\n",
      "  True  True  True  True  True  True  True  True  True  True  True  True\n",
      "  True  True  True  True  True  True  True  True  True  True  True  True\n",
      "  True  True  True  True  True  True  True  True  True  True  True  True\n",
      "  True  True  True  True  True  True  True  True  True  True  True  True\n",
      "  True  True  True  True  True  True  True  True  True  True  True  True\n",
      "  True  True  True  True  True  True  True  True  True  True  True  True\n",
      "  True  True  True  True  True  True  True  True  True  True  True  True\n",
      "  True  True  True  True  True  True  True  True  True  True  True  True\n",
      "  True  True  True  True  True  True  True  True  True  True  True  True\n",
      "  True  True  True  True  True  True  True  True  True  True  True  True\n",
      "  True  True  True  True  True  True  True  True  True  True  True  True\n",
      "  True  True  True  True  True  True  True  True  True  True  True  True\n",
      "  True  True  True  True  True  True  True  True  True  True  True  True\n",
      "  True  True  True  True  True  True  True  True  True  True  True  True\n",
      "  True  True  True  True  True  True  True  True  True  True  True  True\n",
      "  True  True  True  True  True  True  True  True  True  True  True  True\n",
      "  True  True  True  True  True  True  True  True  True  True  True  True\n",
      "  True  True  True  True  True  True  True  True  True  True  True  True\n",
      "  True  True  True  True  True  True  True  True  True  True  True  True\n",
      "  True  True  True  True  True  True  True  True  True  True  True  True\n",
      "  True  True  True  True  True  True  True  True  True  True  True  True\n",
      "  True  True  True  True  True  True  True  True  True  True  True  True\n",
      "  True  True  True  True  True  True  True  True  True  True  True  True\n",
      "  True  True  True  True  True  True  True  True  True  True  True  True\n",
      "  True  True  True  True  True  True  True  True  True  True  True  True\n",
      "  True  True  True  True  True  True  True  True  True  True  True  True\n",
      "  True  True  True  True  True  True  True  True  True  True  True  True\n",
      "  True  True  True  True  True  True  True  True  True  True  True  True\n",
      "  True  True  True  True  True  True]\n"
     ]
    }
   ],
   "source": [
    "# Проверка на совпадение предсказанных вручную и при помощи метода значений \n",
    "y_hat = b_0_hat + b_1_hat * edu\n",
    "y_hat =y_hat.reshape(-1)\n",
    "y_predict = model.predict(edu)\n",
    "print(y_hat == y_predict)"
   ]
  },
  {
   "cell_type": "markdown",
   "metadata": {},
   "source": [
    "№3"
   ]
  },
  {
   "cell_type": "code",
   "execution_count": 35,
   "metadata": {},
   "outputs": [
    {
     "name": "stdout",
     "output_type": "stream",
     "text": [
      "intercept: -27.45608429499999\n",
      "slope: [0.59327618 2.72395305]\n"
     ]
    }
   ],
   "source": [
    "x_lable = ['СТАЖ', Z]\n",
    "X2 = doc[x_lable].values\n",
    "y = doc['ЗП'].values\n",
    "X_1 = doc['СТАЖ'].values\n",
    "X_2 = doc[Z].values\n",
    "new_model = LinearRegression()\n",
    "new_model.fit(X2, y)\n",
    "b_0_hat = new_model.intercept_\n",
    "print('intercept:', b_0_hat) # b₀^\n",
    "b_12_hat = new_model.coef_\n",
    "print('slope:', b_12_hat) # b₁^"
   ]
  },
  {
   "cell_type": "markdown",
   "metadata": {},
   "source": [
    "№4"
   ]
  },
  {
   "cell_type": "code",
   "execution_count": 36,
   "metadata": {},
   "outputs": [
    {
     "name": "stdout",
     "output_type": "stream",
     "text": [
      "При увеличении стажа работы на 1 год зарплата увеличится в среднем на 2.72 тыс. рублей.\n"
     ]
    }
   ],
   "source": [
    "print(f\"При увеличении стажа работы на 1 год зарплата увеличится в среднем на {b_12_hat[1]:.2f} тыс. рублей.\")"
   ]
  },
  {
   "cell_type": "markdown",
   "metadata": {},
   "source": [
    "№5"
   ]
  },
  {
   "cell_type": "code",
   "execution_count": 37,
   "metadata": {},
   "outputs": [
    {
     "name": "stdout",
     "output_type": "stream",
     "text": [
      "При увеличении количества лет обучения на 1 год зарплата увеличится в среднем на 0.59 тыс. рублей.\n"
     ]
    }
   ],
   "source": [
    "print(f\"При увеличении количества лет обучения на 1 год зарплата увеличится в среднем на {b_12_hat[0]:.2f} тыс. рублей.\")"
   ]
  },
  {
   "cell_type": "markdown",
   "metadata": {},
   "source": [
    "№6"
   ]
  },
  {
   "cell_type": "code",
   "execution_count": 38,
   "metadata": {},
   "outputs": [],
   "source": [
    "X = []\n",
    "for i in range(doc.shape[0]):\n",
    "    element = [doc['СТАЖ'][i], doc[Z][i]]\n",
    "    X.append(element)\n",
    "X = np.array(X)"
   ]
  },
  {
   "cell_type": "code",
   "execution_count": 39,
   "metadata": {},
   "outputs": [
    {
     "name": "stdout",
     "output_type": "stream",
     "text": [
      "Коэффициент детерминации модели (ОБРАЗОВАНИЕ, ЗП):  0.20500321147463252\n",
      "F-статистика: 65.3692\n",
      "Критическое значение F: 2.6733\n",
      "p-значение: 0.0000\n",
      "Отвергаем нулевую гипотезу: модель обладает высокой объясняющей способностью.\n"
     ]
    }
   ],
   "source": [
    "R2 = r2_score(salary, new_model.predict(X))\n",
    "print(f'Коэффициент детерминации модели ({Z}, ЗП): ', R2)\n",
    "k = 2 #количество факторов\n",
    "F = (R2 / k) / ((1 - R2) / (n - k - 1))\n",
    "F_crit = f.ppf(1 - alpha, dfn=k, dfd=(n - k - 1))\n",
    "p_value = f.sf(F, dfn=k, dfd=n - k - 1)\n",
    "print(f\"F-статистика: {F:.4f}\")\n",
    "print(f\"Критическое значение F: {F_crit:.4f}\")\n",
    "print(f\"p-значение: {p_value:.4f}\")\n",
    "if F > F_crit:\n",
    "    print(\"Отвергаем нулевую гипотезу: модель обладает высокой объясняющей способностью.\")\n",
    "else:\n",
    "    print(\"Не отвергаем нулевую гипотезу: модель низкого качества.\")"
   ]
  },
  {
   "cell_type": "markdown",
   "metadata": {},
   "source": [
    "№7"
   ]
  },
  {
   "cell_type": "code",
   "execution_count": 40,
   "metadata": {},
   "outputs": [
    {
     "name": "stdout",
     "output_type": "stream",
     "text": [
      "Коэффициенты и их доверительные интервалы:\n",
      "Свободный член: -27.4561, ДИ: [-35.5629, -19.3493]\n",
      "Коэффициенты: 0.5933, ДИ: [0.3473, 0.8392]\n",
      "Коэффициенты: 2.7240, ДИ: [2.2853, 3.1626]\n"
     ]
    }
   ],
   "source": [
    "X = sm.add_constant(X)\n",
    "model = sm.OLS(salary, X).fit()\n",
    "beta = model.params\n",
    "se = model.bse\n",
    "\n",
    "n = X.shape[0]\n",
    "df = n - X.shape[1]\n",
    "\n",
    "t_crit = t.ppf(1 - alpha / 2, df)\n",
    "\n",
    "conf_intervals = [(beta[i] - t_crit * se[i], beta[i] + t_crit * se[i]) for i in range(len(beta))]\n",
    "\n",
    "print(\"Коэффициенты и их доверительные интервалы:\")\n",
    "for i, (coef, ci) in enumerate(zip(beta, conf_intervals)):\n",
    "    if i == 0:\n",
    "        print(f\"Свободный член: {coef:.4f}, ДИ: [{ci[0]:.4f}, {ci[1]:.4f}]\")\n",
    "    else:\n",
    "        print(f\"Коэффициенты: {coef:.4f}, ДИ: [{ci[0]:.4f}, {ci[1]:.4f}]\")"
   ]
  },
  {
   "cell_type": "markdown",
   "metadata": {},
   "source": [
    "Часть 2"
   ]
  },
  {
   "cell_type": "markdown",
   "metadata": {},
   "source": [
    "№1"
   ]
  },
  {
   "cell_type": "code",
   "execution_count": 41,
   "metadata": {},
   "outputs": [
    {
     "name": "stdout",
     "output_type": "stream",
     "text": [
      "Свободный член:  -20.889682154609588\n",
      "Коэффициенты:  0.0 0.4331026222373574 2.642702416360628 -5.82816293787296\n"
     ]
    }
   ],
   "source": [
    "X = []\n",
    "for i in range(doc.shape[0]):\n",
    "    element = [doc['СТАЖ'][i], doc[Z][i], doc['ПОЛ'][i]]\n",
    "    X.append(element)\n",
    "X = np.array(X)\n",
    "X = sm.add_constant(X)\n",
    "sp_model = LinearRegression()\n",
    "sp_model.fit(X, salary)\n",
    "\n",
    "b_0_hat = sp_model.intercept_\n",
    "print('Свободный член: ', b_0_hat) # b₀^\n",
    "b_12_hat = sp_model.coef_\n",
    "print('Коэффициенты: ', b_12_hat[0], b_12_hat[1], b_12_hat[2], b_12_hat[3]) # b₁^"
   ]
  },
  {
   "cell_type": "markdown",
   "metadata": {},
   "source": [
    "№2"
   ]
  },
  {
   "cell_type": "code",
   "execution_count": 42,
   "metadata": {},
   "outputs": [
    {
     "name": "stdout",
     "output_type": "stream",
     "text": [
      "Коэффициент детерминации R^2: 0.2420\n",
      "F-статистика: 40.3159\n",
      "p-значение: 0.0000\n",
      "Отвергаем нулевую гипотезу: модель обладает высокой объясняющей способностью.\n"
     ]
    }
   ],
   "source": [
    "Y_pred = sp_model.predict(X)\n",
    "R2 = sp_model.score(X, salary)\n",
    "n = X.shape[0]\n",
    "k = X.shape[1]\n",
    "F = (R2 / k) / ((1 - R2) / (n - k - 1))\n",
    "\n",
    "p_value = 1 - f.cdf(F, k, n - k - 1)\n",
    "\n",
    "# Вывод результатов\n",
    "print(f\"Коэффициент детерминации R^2: {R2:.4f}\")\n",
    "print(f\"F-статистика: {F:.4f}\")\n",
    "print(f\"p-значение: {p_value:.4f}\")\n",
    "\n",
    "if p_value < alpha:\n",
    "    print(\"Отвергаем нулевую гипотезу: модель обладает высокой объясняющей способностью.\")\n",
    "else:\n",
    "    print(\"Не отвергаем нулевую гипотезу: модель низкого качества.\")"
   ]
  },
  {
   "cell_type": "markdown",
   "metadata": {},
   "source": [
    "№3"
   ]
  },
  {
   "cell_type": "code",
   "execution_count": 43,
   "metadata": {},
   "outputs": [
    {
     "name": "stdout",
     "output_type": "stream",
     "text": [
      "Коэффициент для переменной 'пол': -5.8282\n",
      "t-статистика для коэффициента 'пол': -25.4274\n",
      "p-значение: 0.0000\n",
      "Различия в зарплатах мужчин и женщин статистически значимы\n"
     ]
    }
   ],
   "source": [
    "residuals = salary - Y_pred\n",
    "\n",
    "mse = mean_squared_error(salary, Y_pred)\n",
    "\n",
    "coefficients = sp_model.coef_\n",
    "\n",
    "beta_gender = coefficients[3]\n",
    "\n",
    "X_gender = X[:, 2]\n",
    "X_gender_mean = np.mean(X_gender)\n",
    "S_xx = np.sum((X_gender - X_gender_mean) ** 2)\n",
    "\n",
    "SE_gender = np.sqrt(mse / S_xx)\n",
    "\n",
    "t_stat = beta_gender / SE_gender\n",
    "\n",
    "p_value = 2 * (1 - t.cdf(np.abs(t_stat), df=X.shape[0] - 3))\n",
    "\n",
    "print(f\"Коэффициент для переменной 'пол': {beta_gender:.4f}\")\n",
    "print(f\"t-статистика для коэффициента 'пол': {t_stat:.4f}\")\n",
    "print(f\"p-значение: {p_value:.4f}\")\n",
    "if p_value < alpha:\n",
    "    print(f\"Различия в зарплатах мужчин и женщин статистически значимы\")\n",
    "else:\n",
    "    print(f\"Различия в зарплатах мужчин и женщин НЕ статистически значимы\")"
   ]
  },
  {
   "cell_type": "markdown",
   "metadata": {},
   "source": [
    "№4"
   ]
  },
  {
   "cell_type": "code",
   "execution_count": 49,
   "metadata": {},
   "outputs": [
    {
     "name": "stdout",
     "output_type": "stream",
     "text": [
      "Коэффициент для переменной 'СТАЖ': 0.4331\n",
      "t-статистика для коэффициента 'СТАЖ': 3.3709\n",
      "p-значение: 0.0008\n",
      "Коэффициент при СТАЖЕ РАБОТЫ статистически значим на уровне значимости 0.07.\n"
     ]
    }
   ],
   "source": [
    "mse = mean_squared_error(salary, Y_pred)\n",
    "\n",
    "coefficients = sp_model.coef_\n",
    "\n",
    "beta_stazh = coefficients[1]\n",
    "\n",
    "X_stazh = X[:, 1]\n",
    "X_stazh_mean = np.mean(X_stazh)\n",
    "S_xx_stazh = np.sum((X_stazh - X_stazh_mean) ** 2)\n",
    "\n",
    "SE_stazh = np.sqrt(mse / S_xx_stazh)\n",
    "\n",
    "t_stat_stazh = beta_stazh / SE_stazh\n",
    "\n",
    "p_value_stazh = 2 * (1 - t.cdf(np.abs(t_stat_stazh), df=X.shape[0] - 3))  # df = n - k - 1\n",
    "\n",
    "print(f\"Коэффициент для переменной 'СТАЖ': {beta_stazh:.4f}\")\n",
    "print(f\"t-статистика для коэффициента 'СТАЖ': {t_stat_stazh:.4f}\")\n",
    "print(f\"p-значение: {p_value_stazh:.4f}\")\n",
    "\n",
    "if p_value_stazh < alpha:\n",
    "    print(f\"Коэффициент при СТАЖЕ РАБОТЫ статистически значим на уровне значимости {alpha}.\")\n",
    "else:\n",
    "    print(f\"Коэффициент при СТАЖЕ РАБОТЫ НЕ статистически значим на уровне значимости {alpha}.\")"
   ]
  },
  {
   "cell_type": "markdown",
   "metadata": {},
   "source": [
    "№5"
   ]
  },
  {
   "cell_type": "code",
   "execution_count": 45,
   "metadata": {},
   "outputs": [
    {
     "name": "stdout",
     "output_type": "stream",
     "text": [
      "Коэффициент для переменной 'ВРЕМЯ, ЗАТРАЧЕННОЕ НА ОБРАЗОВАНИЕ': 0.4331\n",
      "t-статистика для коэффициента 'ВРЕМЯ, ЗАТРАЧЕННОЕ НА ОБРАЗОВАНИЕ': 3.3700\n",
      "p-значение: 0.0008\n",
      "Коэффициент при ВРЕМЕНИ, ЗАТРАЧЕННОМ НА ОБРАЗОВАНИЕ статистически значим на уровне значимости 0.07.\n"
     ]
    }
   ],
   "source": [
    "beta_education = coefficients[1]\n",
    "\n",
    "X_education = X[:, 1]\n",
    "X_education_mean = np.mean(X_education)\n",
    "S_xx_education = np.sum((X_education - X_education_mean) ** 2)\n",
    "\n",
    "SE_education = np.sqrt(mse / S_xx_education)\n",
    "\n",
    "t_stat_education = beta_education / SE_education\n",
    "\n",
    "p_value_education = 2 * (1 - t.cdf(np.abs(t_stat_education), df=X.shape[0] - 3))  # df = n - k - 1\n",
    "\n",
    "print(f\"Коэффициент для переменной 'ВРЕМЯ, ЗАТРАЧЕННОЕ НА ОБРАЗОВАНИЕ': {beta_education:.4f}\")\n",
    "print(f\"t-статистика для коэффициента 'ВРЕМЯ, ЗАТРАЧЕННОЕ НА ОБРАЗОВАНИЕ': {t_stat_education:.4f}\")\n",
    "print(f\"p-значение: {p_value_education:.4f}\")\n",
    "\n",
    "if p_value_education < alpha:\n",
    "    print(f\"Коэффициент при ВРЕМЕНИ, ЗАТРАЧЕННОМ НА ОБРАЗОВАНИЕ статистически значим на уровне значимости {alpha}.\")\n",
    "else:\n",
    "    print(f\"Коэффициент при ВРЕМЕНИ, ЗАТРАЧЕННОМ НА ОБРАЗОВАНИЕ НЕ статистически значим на уровне значимости {alpha}.\")"
   ]
  },
  {
   "cell_type": "markdown",
   "metadata": {},
   "source": [
    "№6"
   ]
  },
  {
   "cell_type": "code",
   "execution_count": 46,
   "metadata": {},
   "outputs": [
    {
     "name": "stdout",
     "output_type": "stream",
     "text": [
      "[ 1. 11. 12.  1.]\n"
     ]
    }
   ],
   "source": [
    "new_X = X[0]\n",
    "new_X[1] = a\n",
    "new_X[2] = b\n",
    "new_X[3] = sex\n",
    "print(new_X)"
   ]
  },
  {
   "cell_type": "code",
   "execution_count": 47,
   "metadata": {},
   "outputs": [
    {
     "name": "stdout",
     "output_type": "stream",
     "text": [
      "Прогнозная зарплата: 9.76 долларов в час\n",
      "Доверительный интервал: (7.62, 11.90) долларов в час\n"
     ]
    }
   ],
   "source": [
    "new_data = np.array([[1.0, a, b, sex]])\n",
    "\n",
    "predicted_salary = sp_model.predict(new_data)[0]\n",
    "\n",
    "# Стандартная ошибка прогноза\n",
    "# Используем формулу для стандартной ошибки прогноза\n",
    "# Для простоты расчетов принимаем, что остатки (ошибки) нормально распределены\n",
    "predictions = sp_model.predict(X)\n",
    "residuals = salary - predictions\n",
    "mse = np.mean(residuals**2)  # Среднеквадратическая ошибка\n",
    "\n",
    "X_new = np.hstack([np.ones((X.shape[0], 1)), X])\n",
    "new_data_with_intercept = np.hstack([np.ones((1, 1)), new_data])\n",
    "\n",
    "# Используем псевдообратную матрицу вместо обычной инверсии\n",
    "inv_XTX = np.linalg.pinv(np.dot(X_new.T, X_new))\n",
    "standard_error = np.sqrt(mse * (new_data_with_intercept @ inv_XTX @ new_data_with_intercept.T))\n",
    "\n",
    "t_value = t.ppf(1 - alpha / 2, df=len(X) - X.shape[1] - 1)\n",
    "interval_radius = t_value * standard_error\n",
    "\n",
    "lower_bound = predicted_salary - interval_radius\n",
    "upper_bound = predicted_salary + interval_radius\n",
    "\n",
    "print(f\"Прогнозная зарплата: {predicted_salary:.2f} долларов в час\")\n",
    "print(f\"Доверительный интервал: ({lower_bound[0][0]:.2f}, {upper_bound[0][0]:.2f}) долларов в час\")"
   ]
  },
  {
   "cell_type": "markdown",
   "metadata": {},
   "source": [
    "№7"
   ]
  },
  {
   "cell_type": "code",
   "execution_count": 48,
   "metadata": {},
   "outputs": [
    {
     "name": "stdout",
     "output_type": "stream",
     "text": [
      "В среднем зарплата изменится на 0.8662052444747148 долларовых в час\n"
     ]
    }
   ],
   "source": [
    "beta_1 = sp_model.coef_[1]\n",
    "delta_salary = beta_1 * 2\n",
    "print(f\"В среднем зарплата изменится на {delta_salary} долларовых в час\")"
   ]
  },
  {
   "cell_type": "markdown",
   "metadata": {},
   "source": [
    "№8"
   ]
  },
  {
   "cell_type": "markdown",
   "metadata": {},
   "source": [
    "Можно."
   ]
  }
 ],
 "metadata": {
  "kernelspec": {
   "display_name": "Python 3",
   "language": "python",
   "name": "python3"
  },
  "language_info": {
   "codemirror_mode": {
    "name": "ipython",
    "version": 3
   },
   "file_extension": ".py",
   "mimetype": "text/x-python",
   "name": "python",
   "nbconvert_exporter": "python",
   "pygments_lexer": "ipython3",
   "version": "3.8.10"
  }
 },
 "nbformat": 4,
 "nbformat_minor": 2
}
